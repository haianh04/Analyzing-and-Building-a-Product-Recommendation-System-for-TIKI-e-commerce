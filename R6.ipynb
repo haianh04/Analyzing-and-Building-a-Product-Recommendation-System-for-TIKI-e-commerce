{
 "cells": [
  {
   "cell_type": "code",
   "execution_count": 8,
   "metadata": {},
   "outputs": [
    {
     "name": "stdout",
     "output_type": "stream",
     "text": [
      "['SQL Server', 'Microsoft Access Driver (*.mdb, *.accdb)', 'Microsoft Excel Driver (*.xls, *.xlsx, *.xlsm, *.xlsb)', 'Microsoft Access Text Driver (*.txt, *.csv)', 'Microsoft Access dBASE Driver (*.dbf, *.ndx, *.mdx)', 'SQL Server Native Client 11.0', 'ODBC Driver 17 for SQL Server']\n"
     ]
    }
   ],
   "source": [
    "import pyodbc \n",
    "print(pyodbc.drivers())"
   ]
  },
  {
   "cell_type": "code",
   "execution_count": 9,
   "metadata": {},
   "outputs": [],
   "source": [
    "import pypyodbc as odbc\n",
    "import pandas as pd\n",
    "import plotly.express as px\n",
    "from dash import Dash, html, dcc"
   ]
  },
  {
   "cell_type": "code",
   "execution_count": 10,
   "metadata": {},
   "outputs": [],
   "source": [
    "# Cấu hình kết nối\n",
    "DRIVER = 'ODBC Driver 17 for SQL Server'\n",
    "SERVER_NAME = 'MSI'\n",
    "DATABASE_NAME = 'DATA_For_ML'\n",
    "USER_NAME = 'sa'\n",
    "PASSWORD = '12345'\n",
    "\n",
    "\n",
    "# Chuỗi kết nối\n",
    "connection_string = f\"\"\"\n",
    "DRIVER={{{DRIVER}}};\n",
    "SERVER={SERVER_NAME};\n",
    "DATABASE={DATABASE_NAME};\n",
    "UID={USER_NAME};\n",
    "PWD={PASSWORD};\n",
    "\"\"\""
   ]
  },
  {
   "cell_type": "code",
   "execution_count": 11,
   "metadata": {},
   "outputs": [],
   "source": [
    "# Hàm kết nối và tải dữ liệu\n",
    "def load_data():\n",
    "    try:\n",
    "        connection = odbc.connect(connection_string)\n",
    "        print(\"Kết nối thành công!\")\n",
    "       \n",
    "        df_brand = pd.read_sql(\"SELECT * FROM Tiki_Brand\", connection)\n",
    "        df_comment = pd.read_sql(\"SELECT * FROM Tiki_Comment\", connection)\n",
    "        df_customer = pd.read_sql(\"SELECT * FROM Tiki_Customer\", connection)\n",
    "        df_product = pd.read_sql(\"SELECT * FROM Tiki_Product\", connection)\n",
    "        connection.close()\n",
    "       \n",
    "        print(\"Đã tải dữ liệu và ngắt kết nối.\")\n",
    "        return df_brand, df_comment, df_customer, df_product\n",
    "    except Exception as e:\n",
    "        print(\"Kết nối thất bại:\", e)\n",
    "        return None, None, None, None"
   ]
  },
  {
   "cell_type": "code",
   "execution_count": 12,
   "metadata": {},
   "outputs": [],
   "source": [
    "# Hàm xử lý và phân tích dữ liệu\n",
    "def analyze_data(df_brand, df_comment, df_customer, df_product):\n",
    "    # Chuyển kiểu dữ liệu và loại bỏ phần .0 ở cột brand_id\n",
    "    df_product['brand_id'] = df_product['brand_id'].astype(str).str.replace(r'\\.0$', '', regex=True)\n",
    "    df_brand['brand_id'] = df_brand['brand_id'].astype(str)\n",
    "\n",
    "\n",
    "    # Tính toán các giá trị trung bình và tổng doanh thu\n",
    "    avg_price = df_product['price'].mean()\n",
    "    avg_rating = df_product['rating_avg'].mean()\n",
    "   \n",
    "    df_sales = df_comment.merge(df_product, on='product_id')\n",
    "    df_sales['Revenue'] = df_sales['price']\n",
    "    total_revenue = df_sales['Revenue'].sum()\n",
    "   \n",
    "    print(f\"Giá trung bình: {avg_price}\")\n",
    "    print(f\"Rating trung bình: {avg_rating}\")\n",
    "    print(f\"Tổng doanh thu: {total_revenue}\")\n",
    "\n",
    "\n",
    "    # Merge dữ liệu để hiển thị biểu đồ\n",
    "    df_rating = df_product.merge(df_brand, on='brand_id', how='inner')\n",
    "    df_comment_with_price = df_comment.merge(df_product[['product_id', 'price']], on='product_id', how='left')\n",
    "    df_comment_with_price['revenue_per_product'] = df_comment_with_price.groupby('product_id')['product_id'].transform('size') * df_comment_with_price['price']\n",
    "    df_sales_with_name = df_comment_with_price.merge(df_customer, on='customer_id', how='left')\n",
    "    df_customer_revenue = df_sales_with_name.groupby(['customer_id', 'customer_name']).agg({'revenue_per_product': 'sum'}).reset_index()\n",
    "   \n",
    "    return df_rating, df_customer_revenue, df_sales, df_comment, avg_price, avg_rating, total_revenue"
   ]
  },
  {
   "cell_type": "code",
   "execution_count": 13,
   "metadata": {},
   "outputs": [],
   "source": [
    "# Hàm tạo biểu đồ bằng Plotly\n",
    "def create_plots(df_rating, df_customer_revenue, df_sales, df_comment, df_product):\n",
    "    # Biểu đồ số lượng rating theo từng danh mục\n",
    "    ratings_by_category = (\n",
    "        df_rating.groupby('category')\n",
    "        .size()\n",
    "        .reset_index(name='Rating_Count')\n",
    "        .sort_values(by='Rating_Count', ascending=False)\n",
    "    )\n",
    "    fig1 = px.bar(ratings_by_category, x='category', y='Rating_Count', title=\"Số lượng rating từng danh mục\",\n",
    "                  color='Rating_Count', color_continuous_scale='YlOrBr')\n",
    "\n",
    "\n",
    "    # Biểu đồ số lượng rating theo từng hãng sản xuất\n",
    "    ratings_by_brand = (\n",
    "        df_rating.groupby('brand_name')\n",
    "        .size()\n",
    "        .reset_index(name='Rating_Count')\n",
    "        .sort_values(by='Rating_Count', ascending=False)\n",
    "        .head(10)\n",
    "    )\n",
    "    fig2 = px.bar(ratings_by_brand, x='brand_name', y='Rating_Count', title=\"Số lượng rating từng hãng sản xuất<br>(Top 10)\",\n",
    "                  color='Rating_Count', color_continuous_scale='YlOrBr')\n",
    "\n",
    "\n",
    "    # Biểu đồ top khách hàng mang lại nhiều doanh thu\n",
    "    top_customers = df_customer_revenue.nlargest(10, 'revenue_per_product').sort_values(by='revenue_per_product', ascending=False)\n",
    "    fig3 = px.bar(top_customers, x='customer_name', y='revenue_per_product', title=\"Top 10 khách hàng<br>mang lại nhiều doanh thu\",\n",
    "                  color='revenue_per_product', color_continuous_scale='YlOrBr')\n",
    "\n",
    "\n",
    "    # Biểu đồ số lượng khách hàng theo thời gian\n",
    "    df_comment['purchased_at'] = pd.to_datetime(df_comment['purchased_at'], errors='coerce')\n",
    "    df_comment = df_comment.dropna(subset=['purchased_at'])\n",
    "    df_comment_2019 = df_comment[df_comment['purchased_at'].dt.year == 2019]\n",
    "   \n",
    "    customers_by_time_2019 = (\n",
    "        df_comment_2019.groupby(df_comment_2019['purchased_at'].dt.to_period('M'))\n",
    "        .size()\n",
    "        .reset_index(name='Customer_Count')\n",
    "    )\n",
    "    customers_by_time_2019['purchased_at'] = customers_by_time_2019['purchased_at'].dt.to_timestamp()\n",
    "   \n",
    "    fig4 = px.line(customers_by_time_2019, x='purchased_at', y='Customer_Count', title=\"Lượng khách hàng theo thời gian<br>(Năm 2019)\",\n",
    "                   color_discrete_sequence=['orange'])\n",
    "\n",
    "\n",
    "    # Biểu đồ danh mục sản phẩm được mua nhiều theo thời gian\n",
    "    df_sales_filtered = df_sales[df_sales['category'] == 'Nhà Cửa - Đời Sống']\n",
    "    df_sales_filtered['purchased_at'] = pd.to_datetime(df_sales_filtered['purchased_at'], errors='coerce')\n",
    "    df_sales_filtered = df_sales_filtered.dropna(subset=['purchased_at'])\n",
    "    df_sales_filtered = df_sales_filtered[df_sales_filtered['purchased_at'].dt.year == 2019]\n",
    "   \n",
    "    products_by_category_time = df_sales_filtered.groupby([df_sales_filtered['purchased_at'].dt.to_period('M')]).size().reset_index(name='Product_Count')\n",
    "    products_by_category_time['purchased_at'] = products_by_category_time['purchased_at'].dt.to_timestamp()\n",
    "   \n",
    "    fig5 = px.line(products_by_category_time, x='purchased_at', y='Product_Count', title=\"Sản phẩm 'Nhà Cửa - Đời Sống'<br>được mua nhiều theo thời gian (2019)\",\n",
    "                   color_discrete_sequence=['orange'])\n",
    "\n",
    "\n",
    "    # Biểu đồ xu hướng đánh giá trung bình theo tháng\n",
    "    trend_df = df_comment_2019.groupby(df_comment_2019['purchased_at'].dt.to_period('M'))['rating'].mean().reset_index()\n",
    "    trend_df['Date'] = trend_df['purchased_at'].dt.to_timestamp()\n",
    "    trend_df.columns = ['Month', 'Average Rating', 'Date']\n",
    "   \n",
    "    fig6 = px.line(trend_df, x='Date', y='Average Rating', title='Xu hướng đánh giá trung bình<br>theo từng tháng (2019)',\n",
    "                   color_discrete_sequence=['orange'])\n",
    "\n",
    "\n",
    "    # Biểu đồ số lượng sản phẩm theo từng danh mục\n",
    "    products_by_category = (\n",
    "        df_product.groupby('category')\n",
    "        .size()\n",
    "        .reset_index(name='Product_Count')\n",
    "        .sort_values(by='Product_Count', ascending=False)\n",
    "    )\n",
    "   \n",
    "    fig7 = px.bar(products_by_category, x='category', y='Product_Count', title='Số lượng sản phẩm từng danh mục',\n",
    "                  color='Product_Count', color_continuous_scale='YlOrBr')\n",
    "\n",
    "\n",
    "    # Cập nhật nền và tiêu đề của các biểu đồ\n",
    "    figures = [fig1, fig2, fig3, fig4, fig5, fig6, fig7]\n",
    "    for fig in figures:\n",
    "        fig.update_layout(\n",
    "            plot_bgcolor='black',\n",
    "            paper_bgcolor='black',\n",
    "            font=dict(color='white', size=15, family='Arial'),\n",
    "            title=dict(\n",
    "                text=fig.layout.title.text,\n",
    "                font=dict(color='white', size=20, family='Arial'),\n",
    "                x=0.5,\n",
    "                xanchor='center',\n",
    "            )\n",
    "        )\n",
    "   \n",
    "    return fig1, fig2, fig3, fig4, fig5, fig6, fig7"
   ]
  },
  {
   "cell_type": "code",
   "execution_count": 14,
   "metadata": {},
   "outputs": [
    {
     "name": "stdout",
     "output_type": "stream",
     "text": [
      "Kết nối thành công!\n"
     ]
    },
    {
     "name": "stderr",
     "output_type": "stream",
     "text": [
      "C:\\Users\\ADMIN\\AppData\\Local\\Temp\\ipykernel_28736\\2685557278.py:7: UserWarning: pandas only supports SQLAlchemy connectable (engine/connection) or database string URI or sqlite3 DBAPI2 connection. Other DBAPI2 objects are not tested. Please consider using SQLAlchemy.\n",
      "  df_brand = pd.read_sql(\"SELECT * FROM Tiki_Brand\", connection)\n",
      "C:\\Users\\ADMIN\\AppData\\Local\\Temp\\ipykernel_28736\\2685557278.py:8: UserWarning: pandas only supports SQLAlchemy connectable (engine/connection) or database string URI or sqlite3 DBAPI2 connection. Other DBAPI2 objects are not tested. Please consider using SQLAlchemy.\n",
      "  df_comment = pd.read_sql(\"SELECT * FROM Tiki_Comment\", connection)\n",
      "C:\\Users\\ADMIN\\AppData\\Local\\Temp\\ipykernel_28736\\2685557278.py:9: UserWarning: pandas only supports SQLAlchemy connectable (engine/connection) or database string URI or sqlite3 DBAPI2 connection. Other DBAPI2 objects are not tested. Please consider using SQLAlchemy.\n",
      "  df_customer = pd.read_sql(\"SELECT * FROM Tiki_Customer\", connection)\n",
      "C:\\Users\\ADMIN\\AppData\\Local\\Temp\\ipykernel_28736\\2685557278.py:10: UserWarning: pandas only supports SQLAlchemy connectable (engine/connection) or database string URI or sqlite3 DBAPI2 connection. Other DBAPI2 objects are not tested. Please consider using SQLAlchemy.\n",
      "  df_product = pd.read_sql(\"SELECT * FROM Tiki_Product\", connection)\n"
     ]
    },
    {
     "name": "stdout",
     "output_type": "stream",
     "text": [
      "Đã tải dữ liệu và ngắt kết nối.\n",
      "Giá trung bình: 722206.741786847\n",
      "Rating trung bình: 3.461737678207248\n",
      "Tổng doanh thu: 110043324079.0\n"
     ]
    },
    {
     "name": "stderr",
     "output_type": "stream",
     "text": [
      "C:\\Users\\ADMIN\\AppData\\Local\\Temp\\ipykernel_28736\\1582971062.py:50: SettingWithCopyWarning:\n",
      "\n",
      "\n",
      "A value is trying to be set on a copy of a slice from a DataFrame.\n",
      "Try using .loc[row_indexer,col_indexer] = value instead\n",
      "\n",
      "See the caveats in the documentation: https://pandas.pydata.org/pandas-docs/stable/user_guide/indexing.html#returning-a-view-versus-a-copy\n",
      "\n"
     ]
    }
   ],
   "source": [
    "# Chạy các hàm và tạo biểu đồ\n",
    "df_brand, df_comment, df_customer, df_product = load_data()\n",
    "\n",
    "\n",
    "if df_brand is not None:\n",
    "    df_rating, df_customer_revenue, df_sales, df_comment, avg_price, avg_rating, total_revenue = analyze_data(df_brand, df_comment, df_customer, df_product)\n",
    "    fig1, fig2, fig3, fig4, fig5, fig6, fig7 = create_plots(df_rating, df_customer_revenue, df_sales, df_comment, df_product)"
   ]
  },
  {
   "cell_type": "code",
   "execution_count": 33,
   "metadata": {},
   "outputs": [
    {
     "data": {
      "text/html": [
       "\n",
       "        <iframe\n",
       "            width=\"100%\"\n",
       "            height=\"650\"\n",
       "            src=\"http://127.0.0.1:8050/\"\n",
       "            frameborder=\"0\"\n",
       "            allowfullscreen\n",
       "            \n",
       "        ></iframe>\n",
       "        "
      ],
      "text/plain": [
       "<IPython.lib.display.IFrame at 0x187dd1bc380>"
      ]
     },
     "metadata": {},
     "output_type": "display_data"
    }
   ],
   "source": [
    "# Tạo và hiển thị dashboard\n",
    "app = Dash(__name__)\n",
    "\n",
    "\n",
    "app.layout = html.Div([\n",
    "    html.H1(\"Dashboard Phân Tích Dữ Liệu Tiki\", style={'color': 'white', 'textAlign': 'center', 'font-size': '30px'}),\n",
    "    html.Div([\n",
    "        html.P(f\"Giá trung bình: {avg_price:.0f} VND  |  Rating trung bình: {avg_rating:.2f}  |  Tổng doanh thu: {total_revenue:.0f} VND\", style={'color': 'white'}),\n",
    "    ], style={'textAlign': 'center', 'color': 'white', 'font-size': '20px'}),\n",
    "    html.Div([\n",
    "        dcc.Graph(figure=fig1, style={'width': '50%', 'display': 'inline-block', 'height': '500px'}),\n",
    "        dcc.Graph(figure=fig3, style={'width': '50%', 'display': 'inline-block', 'height': '500px'}),\n",
    "    ]),\n",
    "    html.Div([\n",
    "        dcc.Graph(figure=fig4, style={'width': '33%', 'display': 'inline-block', 'height': '500px'}),\n",
    "        dcc.Graph(figure=fig5, style={'width': '34%', 'display': 'inline-block', 'height': '500px'}),\n",
    "        dcc.Graph(figure=fig6, style={'width': '33%', 'display': 'inline-block', 'height': '500px'}),\n",
    "    ]),\n",
    "    html.Div([\n",
    "        dcc.Graph(figure=fig7, style={'width': '50%', 'display': 'inline-block', 'height': '500px'}),\n",
    "        dcc.Graph(figure=fig2, style={'width': '50%', 'display': 'inline-block', 'height': '500px'}),\n",
    "    ]),\n",
    "], style={'backgroundColor': 'black'})\n",
    "\n",
    "\n",
    "if __name__ == '__main__':\n",
    "    app.run_server(debug=True)"
   ]
  }
 ],
 "metadata": {
  "kernelspec": {
   "display_name": "Python 3",
   "language": "python",
   "name": "python3"
  },
  "language_info": {
   "codemirror_mode": {
    "name": "ipython",
    "version": 3
   },
   "file_extension": ".py",
   "mimetype": "text/x-python",
   "name": "python",
   "nbconvert_exporter": "python",
   "pygments_lexer": "ipython3",
   "version": "3.12.5"
  }
 },
 "nbformat": 4,
 "nbformat_minor": 2
}
